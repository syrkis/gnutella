{
 "cells": [
  {
   "cell_type": "markdown",
   "metadata": {},
   "source": [
    "# 5.1 Generating Barabási-Albert (BA) networks\n",
    "\n",
    "Write code to generate a network with N = 10^4 nodes using the BA model with\n",
    "m = 4. Use as initial condition a fully connected network with m = 4 nodes."
   ]
  },
  {
   "cell_type": "code",
   "execution_count": null,
   "metadata": {},
   "outputs": [],
   "source": [
    "# imports\n",
    "\n",
    "import networkx as nx\n",
    "import random \n",
    "import numpy as np\n",
    "import pandas as pd\n",
    "from tqdm import tqdm\n",
    "import powerlaw\n",
    "from matplotlib import pyplot as plt\n",
    "import matplotlib; matplotlib.rcParams[\"figure.dpi\"] = 100\n",
    "import warnings"
   ]
  },
  {
   "cell_type": "markdown",
   "metadata": {},
   "source": [
    "We perform the setup described above"
   ]
  },
  {
   "cell_type": "code",
   "execution_count": null,
   "metadata": {},
   "outputs": [],
   "source": [
    "alphas = []\n",
    "n = 10 ** 4\n",
    "N = {i : [j for j in range(1, 5)] for i in range(1, 5)}\n",
    "D = []\n",
    "random.seed(42)\n",
    "\n",
    "for node in tqdm(range(5, n + 1)):\n",
    "    samples = [k for k in N.keys()]\n",
    "    weights = [len(v) for v in N.values()]\n",
    "    choices = random.choices(samples, weights, k=4)\n",
    "    N[node] = choices\n",
    "    for choice in choices:\n",
    "        N[choice].append(node)\n",
    "    if node in (10 ** 2, 10 ** 3, 10 ** 4):\n",
    "        D.append([len(v) for v in N.values()])\n"
   ]
  },
  {
   "cell_type": "markdown",
   "metadata": {},
   "source": [
    "## 5.1.1\n",
    "\n",
    "Measure the degree distribution at intermediate steps, namely when the network\n",
    "has 10^2, 10^3 and 10^4 nodes."
   ]
  },
  {
   "cell_type": "code",
   "execution_count": null,
   "metadata": {},
   "outputs": [],
   "source": [
    "for i in range(len(D)):\n",
    "    df = pd.DataFrame(D[i])\n",
    "    print(df.describe())"
   ]
  },
  {
   "cell_type": "markdown",
   "metadata": {},
   "source": [
    "## 5.1.{2, 3}\n",
    "\n",
    "5.1.2:\n",
    "\n",
    "Compare the distributions at these intermediate steps by plotting them together\n",
    "and fitting each to a power-law with degree exponent γ. Do the distributions\n",
    "“converge”? Do you find the exponent you would expect?\n",
    "\n",
    "5.1.3:\n",
    "\n",
    "Measure the average clustering coefficient in function of N."
   ]
  },
  {
   "cell_type": "code",
   "execution_count": null,
   "metadata": {},
   "outputs": [],
   "source": [
    "# 5.1.2\n",
    "\n",
    "fig, axis = plt.subplots(1, 1, figsize=(16, 8))\n",
    "warnings.filterwarnings(\"ignore\")\n",
    "colors = ['r', 'g', 'b'][::-1]\n",
    "labels = ['10 ** 2', '10 ** 3', '10 ** 4']\n",
    "for i in range(len(D)):\n",
    "    # frq = [d / max(D[i]) for d in D[i]]\n",
    "    frq = D[i]\n",
    "    fit = powerlaw.Fit(frq, ax=axis, verbose=False)\n",
    "    fit.plot_ccdf(ax=axis, marker='o', color=colors[i], label=f'{labels[i]}, gamma = {round(fit.alpha, 4)}')\n",
    "    fit.power_law.plot_ccdf(ax=axis, linestyle='--', color=colors[i], label=f'{labels[i]}, gamma = {round(fit.alpha, 4)}')\n",
    "    alphas.append(fit.alpha)\n",
    "plt.title('Power law fitting to BA instances with $N = 10^{\\{2, 3, 4\\}}$')\n",
    "plt.xlabel(r'$x$'); plt.ylabel(r'$P(k >= x)$'); plt.legend()\n",
    "plt.show()"
   ]
  },
  {
   "cell_type": "markdown",
   "metadata": {},
   "source": [
    "The above plot is as we would expect, with each line being offset by one order of magnitude, and paralel to one another. As for problem 4.3, `powerlaw` slightly overestimates $\\gamma$."
   ]
  },
  {
   "cell_type": "code",
   "execution_count": null,
   "metadata": {},
   "outputs": [],
   "source": []
  }
 ],
 "metadata": {
  "kernelspec": {
   "display_name": "Python 3",
   "language": "python",
   "name": "python3"
  },
  "language_info": {
   "codemirror_mode": {
    "name": "ipython",
    "version": 3
   },
   "file_extension": ".py",
   "mimetype": "text/x-python",
   "name": "python",
   "nbconvert_exporter": "python",
   "pygments_lexer": "ipython3",
   "version": "3.8.8"
  }
 },
 "nbformat": 4,
 "nbformat_minor": 4
}
