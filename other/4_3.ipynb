{
 "cells": [
  {
   "cell_type": "markdown",
   "metadata": {},
   "source": [
    "# 4.3: Mastering power law distributions\n",
    "\n",
    "Write code to generate three synthetic networks having 10,000 nodes and degree\n",
    "distribution following a power-law with exponent γ = 2.2, γ = 2.5, and γ = 3.\n",
    "After generating the networks, fit the three obtained distributions using the\n",
    "tools covered in class. Is there an agreement between the result of the fitting\n",
    "and what you would expect? Why or why not?"
   ]
  },
  {
   "cell_type": "code",
   "execution_count": null,
   "metadata": {},
   "outputs": [],
   "source": [
    "# imports\n",
    "\n",
    "import networkx as nx\n",
    "from matplotlib import pyplot as plt\n",
    "import powerlaw\n",
    "from collections import Counter\n",
    "from tqdm import tqdm\n",
    "import random\n",
    "import warnings\n",
    "warnings.filterwarnings(\"ignore\")"
   ]
  },
  {
   "cell_type": "code",
   "execution_count": null,
   "metadata": {},
   "outputs": [],
   "source": [
    "n = 10 ** 4                            # 10,000 nodes\n",
    "alphas = [2.2, 2.5, 3.0]               # the three given gammas\n",
    "_2_2, _2_5, _3_0 = [], [], []          # arrays to hold fitted gammas (\"alpha\" in powerlaw library)\n",
    "\n",
    "def run():\n",
    "    \"\"\"\n",
    "    Function generates a graph with each of the provided gammas.\n",
    "    Then it determines gamma through fitting and appends to the\n",
    "    corresponding gamma array.\n",
    "    \"\"\"\n",
    "    for i in range(len(alphas)):\n",
    "        degrees = nx.utils.powerlaw_sequence(n, alphas[i])\n",
    "        degrees = [int(d) for d in degrees]\n",
    "        if sum(degrees) % 2 != 0:\n",
    "            degrees[-1] += random.choice([1, -1])\n",
    "        G = nx.configuration_model(degrees)\n",
    "        #G = nx.Graph(G)\n",
    "        fit = powerlaw.Fit(list(dict(G.degree()).values()), verbose=False)\n",
    "        if i % 3 == 0:\n",
    "            _2_2.append(fit.alpha)\n",
    "        elif i % 3 == 1:\n",
    "            _2_5.append(fit.alpha)\n",
    "        else:\n",
    "            _3_0.append(fit.alpha)"
   ]
  },
  {
   "cell_type": "code",
   "execution_count": null,
   "metadata": {},
   "outputs": [],
   "source": [
    "\"\"\"\n",
    "We run the experiement above 10 times, and plot the outcome.\n",
    "\"\"\"\n",
    "random.seed(42)\n",
    "for i in tqdm(range(25)):\n",
    "    run()\n",
    "\n",
    "\n",
    "plt.plot(_2_2, label='gamma 2.2')    \n",
    "plt.plot(_2_5, label='gamma 2.5')\n",
    "plt.plot(_3_0, label='gamma 3.0')\n",
    "plt.legend()\n",
    "plt.title('fitted seeded gamma v. fitted gamma')\n",
    "plt.ylabel(r'$\\gamma$')\n",
    "plt.xlabel('run number')\n",
    "plt.show()"
   ]
  },
  {
   "cell_type": "markdown",
   "metadata": {},
   "source": [
    "Though the graphs above are clearly oscilating in the vicinity of their corresponding originial $\\gamma$'s, they do seem to reliably overshoot.\n",
    "\n",
    "One explanation could be that $\\gamma$ is largely determined by how big the largest values are relative to the length of the array. This possibility is echoed by variance of the largest degree in the genereated sequences below.\n",
    "\n",
    "What is intersting here is that the most common largest degree is 300-ish, though when it does deviate significantly, it deviates upwards."
   ]
  },
  {
   "cell_type": "code",
   "execution_count": null,
   "metadata": {},
   "outputs": [],
   "source": [
    "random.seed(42)\n",
    "degrees = []\n",
    "for i in range(100):\n",
    "    degrees.append(max(nx.utils.powerlaw_sequence(10 ** 4, 3)))\n",
    "plt.plot(degrees);"
   ]
  },
  {
   "cell_type": "code",
   "execution_count": null,
   "metadata": {},
   "outputs": [],
   "source": []
  }
 ],
 "metadata": {
  "kernelspec": {
   "display_name": "Python 3",
   "language": "python",
   "name": "python3"
  },
  "language_info": {
   "codemirror_mode": {
    "name": "ipython",
    "version": 3
   },
   "file_extension": ".py",
   "mimetype": "text/x-python",
   "name": "python",
   "nbconvert_exporter": "python",
   "pygments_lexer": "ipython3",
   "version": "3.8.8"
  }
 },
 "nbformat": 4,
 "nbformat_minor": 4
}
