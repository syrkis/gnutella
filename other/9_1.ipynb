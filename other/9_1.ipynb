{
 "cells": [
  {
   "cell_type": "markdown",
   "metadata": {},
   "source": [
    "# 9.1: Projection\n",
    "\n",
    "Calculate the unipartite projections using simple weights (function jaccard)\n",
    "and random walks (function ycn edges). Convert the outputs to two networkx\n",
    "Graphs: G_sw and G_rw – make sure to also transfer the edge weights. Calculate\n",
    "their densities."
   ]
  },
  {
   "cell_type": "code",
   "execution_count": 73,
   "metadata": {},
   "outputs": [],
   "source": [
    "# imports\n",
    "import sys; sys.path.append('bin/')\n",
    "import pandas as pd\n",
    "import networkx as nx\n",
    "import network_map2 as nm2\n",
    "from matplotlib import pyplot as plt"
   ]
  },
  {
   "cell_type": "code",
   "execution_count": 74,
   "metadata": {},
   "outputs": [
    {
     "name": "stdout",
     "output_type": "stream",
     "text": [
      "Name: \n",
      "Type: Graph\n",
      "Number of nodes: 32\n",
      "Number of edges: 89\n",
      "Average degree:   5.5625\n"
     ]
    }
   ],
   "source": [
    "G = nx.Graph()\n",
    "\n",
    "with open('../data/other/Davis_southern_club_women-two_mode.txt', 'r') as datafile:\n",
    "    data = datafile.readlines()\n",
    "    for edge in data:\n",
    "        source, target = edge.strip().split(\" \")\n",
    "        G.add_edge(source, f\"E{target}\")\n",
    "    \n",
    "print(nx.info(G))"
   ]
  },
  {
   "cell_type": "code",
   "execution_count": 75,
   "metadata": {},
   "outputs": [],
   "source": [
    "nodes = nx.algorithms.bipartite.basic.sets(G)\n",
    "rows = sorted(list(nodes[1]))\n",
    "cols = sorted(list(nodes[0]))"
   ]
  },
  {
   "cell_type": "code",
   "execution_count": 86,
   "metadata": {},
   "outputs": [
    {
     "name": "stderr",
     "output_type": "stream",
     "text": [
      "/Users/syrkis/opt/anaconda3/lib/python3.8/site-packages/sklearn/metrics/pairwise.py:1765: DataConversionWarning: Data was converted to boolean for metric jaccard\n",
      "  warnings.warn(msg, DataConversionWarning)\n"
     ]
    }
   ],
   "source": [
    "G_sw = nm2.jaccard(G, cols)\n",
    "#print(nx.info(G_sw))\n",
    "edges = [(s, t, w) for (s, t, w) in G_sw.edges(data=True)]\n",
    "G_sw = nx.Graph()\n",
    "G_sw.add_weighted_edges_from(edges)"
   ]
  },
  {
   "cell_type": "code",
   "execution_count": 87,
   "metadata": {},
   "outputs": [],
   "source": [
    "G_rw = nm2.ycn(G, cols)\n",
    "#print(nx.info(G_sw))\n",
    "edges = [(s, t, w) for (s, t, w) in G_rw.edges(data=True)]\n",
    "G_rw = nx.Graph()\n",
    "G_rw.add_weighted_edges_from(edges)"
   ]
  },
  {
   "cell_type": "markdown",
   "metadata": {},
   "source": [
    "We now compute the proporion of edges compard to all possible edges (their densities)"
   ]
  },
  {
   "cell_type": "code",
   "execution_count": 113,
   "metadata": {},
   "outputs": [
    {
     "name": "stdout",
     "output_type": "stream",
     "text": [
      "0.5515873015873016 0.5515873015873016\n"
     ]
    }
   ],
   "source": [
    "density = lambda x : len(x.edges) / (len(rows) * len(cols)) # \n",
    "\n",
    "d1 = density(G_rw)\n",
    "d2 = density(G_sw)\n",
    "\n",
    "print(d1, d2)"
   ]
  },
  {
   "cell_type": "code",
   "execution_count": null,
   "metadata": {},
   "outputs": [],
   "source": []
  }
 ],
 "metadata": {
  "kernelspec": {
   "display_name": "Python 3",
   "language": "python",
   "name": "python3"
  },
  "language_info": {
   "codemirror_mode": {
    "name": "ipython",
    "version": 3
   },
   "file_extension": ".py",
   "mimetype": "text/x-python",
   "name": "python",
   "nbconvert_exporter": "python",
   "pygments_lexer": "ipython3",
   "version": "3.8.3"
  }
 },
 "nbformat": 4,
 "nbformat_minor": 4
}
