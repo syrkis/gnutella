{
 "cells": [
  {
   "cell_type": "markdown",
   "metadata": {},
   "source": [
    "# Analysis of the Gnutella Network"
   ]
  },
  {
   "cell_type": "code",
   "execution_count": 60,
   "metadata": {},
   "outputs": [],
   "source": [
    "# imports\n",
    "\n",
    "import os\n",
    "import random\n",
    "import warnings\n",
    "warnings.filterwarnings(\"ignore\")\n",
    "import powerlaw\n",
    "import numpy as np\n",
    "import pandas as pd\n",
    "from tqdm import tqdm\n",
    "import networkx as nx\n",
    "from collections import Counter\n",
    "from matplotlib import pyplot as plt\n",
    "import seaborn as sns"
   ]
  },
  {
   "cell_type": "code",
   "execution_count": 61,
   "metadata": {
    "pycharm": {
     "name": "#%%\n"
    }
   },
   "outputs": [],
   "source": [
    "# constructing networks\n",
    "\n",
    "path = '../data/'\n",
    "targets = [path + target for target in os.listdir(path)]\n",
    "S = {idx: nx.read_edgelist(target, delimiter=\"\\t\", create_using=nx.DiGraph(name='test')) \\\n",
    "     for idx, target in enumerate(targets)}\n",
    "for idx, G in enumerate(S):\n",
    "    S[G].name = targets[idx][-6:-4] + '-08-2002'\n"
   ]
  },
  {
   "cell_type": "code",
   "execution_count": 62,
   "metadata": {},
   "outputs": [],
   "source": [
    "# plotting degrees distributions\n",
    "class Degrees:\n",
    "\n",
    "    def __init__(self, G):\n",
    "        self.graph = G\n",
    "        self.infos = {'graph': self.graph.name,\n",
    "                      'folder': \"-\".join(self.graph.name.split(\"-\")[::-1])}\n",
    "        self._in_degrees = None\n",
    "        self._out_degrees = None\n",
    "        self._logbins = None\n",
    "\n",
    "    def plotter(self):\n",
    "        # data corpus gathering\n",
    "        self.constructor()\n",
    "        D = [self._in_degrees, self._out_degrees]\n",
    "        X = [entry[0] for entry in D]\n",
    "        Y = [entry[1] for entry in D]\n",
    "        M = [entry[2] for entry in D]\n",
    "\n",
    "        #################\n",
    "        # plotting part #\n",
    "        #################\n",
    "        fig, axes = plt.subplots(3, 2, figsize=(17, 17))\n",
    "        fig.patch.set_facecolor('w')\n",
    "        colors = ['bo', 'ro']\n",
    "        inoutname = ['In', 'Out']\n",
    "        #plt.style.use('seaborn')\n",
    "        fig.suptitle(f'{self.graph.name} Degree Distribution Plots',  fontsize=36)\n",
    "\n",
    "        # loglog degree dist. plot\n",
    "        for idx, ax in enumerate(axes[0]):\n",
    "            ax.loglog(X[idx], Y[idx], colors[idx])\n",
    "            ax.set_title(f\"LogLog {inoutname[idx]} Degree\")\n",
    "            ax.set_xlabel(M[idx]['xlab'])\n",
    "            ax.set_ylabel(M[idx]['ylab'])\n",
    "\n",
    "        # linear degree dist. plot\n",
    "        for idx, ax in enumerate(axes[1]):\n",
    "            ax.plot(X[idx], Y[idx], colors[idx])\n",
    "            ax.set_title(f\"Linear {inoutname[idx]} Degree\")\n",
    "            ax.set_xlabel(M[idx]['xlab'])\n",
    "            ax.set_ylabel(M[idx]['ylab'])\n",
    "\n",
    "        # log binned degree dist. plot\n",
    "        #D = self._logbins\n",
    "        #IN = D[0]; OUT = D[1]; w = D[2]\n",
    "        #axes[2][0].hist([IN, OUT], bins=np.logspace(np.log10(1), np.log10(max(IN)), num=15), weights=[w,w], log=True, label=[\"In degree\", \"Out degree\"])\n",
    "        #axes[2][0].set_yscale(\"symlog\", linthresh=0.0001)\n",
    "        #axes[2][0].set_xscale(\"log\")\n",
    "        #axes[2][0].set_title(f\"{self.infos['graph']}, Log binning of in degree distribution\")\n",
    "        #axes[2][0].set_xlabel(f\"k\"); axes[2][0].set_ylabel(f\"P(k)\"); axes[2][0].legend()\n",
    "\n",
    "        # ccdf plotting\n",
    "        D = [self._in_ccdf_data, self._out_ccdf_data]\n",
    "        bin_centers = [entry[2] for entry in D]\n",
    "        y = [entry[3] for entry in D]\n",
    "        for idx, ax in enumerate(axes[2]):\n",
    "            ax.plot(bin_centers[idx], y[idx], colors[idx])  ## using bin_centers rather than edges\n",
    "            ax.set_title(f\"{inoutname[idx]} Degree CCDF\")\n",
    "            ax.set_xlabel('x')\n",
    "            ax.set_ylabel('P(x>k)')\n",
    "            ax.set_yscale(\"symlog\", linthresh=0.00001)\n",
    "            ax.set_xscale(\"log\")\n",
    "\n",
    "        return fig\n",
    "\n",
    "    def constructor(self):\n",
    "        self.out_degrees()\n",
    "        self.in_degrees()\n",
    "        #self.logbins()\n",
    "        self.ccdf()\n",
    "\n",
    "    def in_degrees(self):\n",
    "        freqs = Counter(dict(self.graph.in_degree).values())\n",
    "        X = freqs.keys()\n",
    "        Y = freqs.values()\n",
    "        M = self.infos\n",
    "        M['title'] = f'degree distribution'\n",
    "        M['xlab'] = 'k'; M['ylab'] = 'P(k)'\n",
    "        self._in_degrees = [X, Y, M][:]\n",
    "\n",
    "\n",
    "    def out_degrees(self):\n",
    "        freqs = Counter(dict(self.graph.out_degree).values())\n",
    "        X = freqs.keys()\n",
    "        Y = freqs.values()\n",
    "        M = self.infos\n",
    "        M['title'] = f'degree distribution'\n",
    "        M['xlab'] = 'k'; M['ylab'] = 'P(k)'\n",
    "        self._out_degrees = [X, Y, M][:]\n",
    "\n",
    "\n",
    "    def logbins(self):\n",
    "        \"\"\"\n",
    "        takes in graph.\n",
    "        saves log binned deg. dist. plots.\n",
    "        \"\"\"\n",
    "        in_deg = list(dict(self.graph.in_degree).values())\n",
    "        out_deg = list(dict(self.graph.out_degree).values())\n",
    "        w = np.ones_like(in_deg) / len(out_deg)\n",
    "        self._logbins = [in_deg, out_deg, w]\n",
    "\n",
    "    def ccdf(self):\n",
    "            IN = list(dict(G.in_degree).values())\n",
    "            n,x, _ = plt.hist(IN, density=True, cumulative=True, bins=100)\n",
    "            plt.close()\n",
    "            bin_centers = 0.5*(x[1:]+x[:-1])\n",
    "            y = [1 - v for v in n]\n",
    "            self._in_ccdf_data = [n, x, bin_centers, y]\n",
    "\n",
    "            OUT = list(dict(G.out_degree).values())\n",
    "            n,x, _ = plt.hist(OUT, density=True, cumulative=True, bins=100)\n",
    "            plt.close()\n",
    "            bin_centers = 0.5*(x[1:]+x[:-1])\n",
    "            y = [1 - v for v in n]\n",
    "            self._out_ccdf_data = [n, x, bin_centers, y]"
   ]
  },
  {
   "cell_type": "code",
   "execution_count": 74,
   "outputs": [],
   "source": [
    "class Centrality:\n",
    "\n",
    "    def __init__(self, G):\n",
    "        self.G = G\n",
    "        self.infos = {'title': self.G.name}\n",
    "        self._between = None\n",
    "        self._eigen = None\n",
    "        self._close = None\n",
    "        self._indeg = None\n",
    "        self._outdeg = None\n",
    "        self.centrality_df = None\n",
    "\n",
    "    def plotter(self):\n",
    "        self.constructor()\n",
    "        self.confusion()\n",
    "        fig, axes = plt.subplots(5, 1, figsize=(17, 17))\n",
    "        fig.patch.set_facecolor('w')\n",
    "        #plt.style.use('seaborn')\n",
    "        fig.suptitle(f'{self.G.name} Centrality Plots',  fontsize=36)\n",
    "\n",
    "\n",
    "        B = self._between\n",
    "        axes[0].plot(B[0], B[1], 'co')\n",
    "        axes[0].set_title('Betweenness Centrality')\n",
    "        axes[0].set_xlabel(r\"$C_d$\")\n",
    "        axes[0].set_ylabel(r\"$P(C_d)$\")\n",
    "\n",
    "        E = self._eigen\n",
    "        axes[1].plot(E[0], E[1], 'co')\n",
    "        axes[1].set_title('Eigenvector Centrality')\n",
    "        axes[1].set_xlabel(r\"$C_d$\")\n",
    "        axes[1].set_ylabel(r\"$P(C_d)$\")\n",
    "\n",
    "        C = self._close\n",
    "        axes[2].scatter(C[0], C[1])\n",
    "        axes[2].set_title('Closeness Centrality')\n",
    "        axes[2].set_xlabel(r\"$C_d$\")\n",
    "        axes[2].set_ylabel(r\"$P(C_d)$\")\n",
    "\n",
    "        I = self._indeg\n",
    "        axes[3].plot(I[0], I[1], 'co')\n",
    "        axes[3].set_title('In Degree Centrality')\n",
    "        axes[3].set_xlabel(r\"$C_d$\")\n",
    "        axes[3].set_ylabel(r\"$P(C_d)$\")\n",
    "\n",
    "        O = self._outdeg\n",
    "        axes[4].plot(O[0], O[1], 'co')\n",
    "        axes[4].set_title('Out Degree Centrality')\n",
    "        axes[4].set_xlabel(r\"$C_d$\")\n",
    "        axes[4].set_ylabel(r\"$P(C_d)$\")\n",
    "\n",
    "        return fig\n",
    "\n",
    "\n",
    "    def confusion(self):\n",
    "        v = {}\n",
    "        v['indegree_centralities'] = []\n",
    "        v['outdegree_centralities'] = []\n",
    "        v['betweenness_centralities'] = []\n",
    "        v['closeness_centralities'] = []\n",
    "        v['eigen_centralities'] = []\n",
    "        v['keys'] = []\n",
    "\n",
    "        for key in self._close.keys():\n",
    "            v['keys'].append(key)\n",
    "            v['indegree_centralities'].append(self._indeg[key])\n",
    "            v['outdegree_centralities'].append(self._outdeg[key])\n",
    "            v['betweenness_centralities'].append(self._between[key])\n",
    "            v['closeness_centralities'].append(self._close[key])\n",
    "            v['eigen_centralities'].append(self._eigen[key])\n",
    "\n",
    "        centrality_df = pd.DataFrame.from_dict(v, orient='index').transpose()\n",
    "        centrality_df = centrality_df.set_index('keys')\n",
    "        self.centrality_df = centrality_df\n",
    "        corr_mat = centrality_df.astype(float).corr('spearman')\n",
    "        sns.heatmap(corr_mat, annot = True)\n",
    "        plt.title('Centrality correlation matrix')\n",
    "        plt.savefig(f'../docs/plots/{self.G.name}/centrality-confusion-{self.G.name}')\n",
    "\n",
    "    def constructor(self):\n",
    "        self.betweenness()\n",
    "        self.eigen()\n",
    "        self.closeness()\n",
    "        self.indeg()\n",
    "        self.outdeg()\n",
    "\n",
    "    def betweenness(self):\n",
    "            betw = nx.betweenness_centrality(G, k=1000)\n",
    "            in_meta = {\"title\": f\"{G.name}, betweenness centrality\",\n",
    "               \"folder\": \"-\".join(G.name.split(\"-\")[::-1]),\n",
    "               \"file\": f\"betw-cent-{G.name}\",\n",
    "               \"xlab\": \"C_b\", \"ylab\": \"P(C_b)\"}\n",
    "            w = np.ones_like(list(betw.values())) / (len(betw.values()))\n",
    "            n, x, _ = plt.hist(list(betw.values()),  bins = 20, weights = w)\n",
    "            plt.close()\n",
    "            bin_centers = 0.5*(x[1:]+x[:-1])\n",
    "            self._between = [bin_centers, n]\n",
    "\n",
    "    def eigen(self):\n",
    "        eigen = nx.eigenvector_centrality(G, max_iter=200)\n",
    "        w = np.ones_like(list(eigen.values())) / (len(eigen.values()))\n",
    "        n, x, _ = plt.hist(list(eigen.values()),  bins = 20, weights = w)\n",
    "        plt.close()\n",
    "        bin_centers = 0.5*(x[1:]+x[:-1])\n",
    "        self._eigen = [bin_centers, n]\n",
    "\n",
    "\n",
    "    def closeness(self):\n",
    "        clos = {nx.strongly_connected_components(self.component(self.G)) for n in self.sampler(self.component(G))}\n",
    "        in_meta = {\"title\": f\"{self.G.name}, eigenvector centrality\",\n",
    "                   \"folder\": \"-\".join(self.G.name.split(\"-\")[::-1]),\n",
    "                   \"file\": f\"eigen-cent-{self.G.name}\",\n",
    "                   \"xlab\": \"C_b\", \"ylab\": \"P(C_b)\"}\n",
    "        w = np.ones_like(list(clos.values())) / (len(clos.values()))\n",
    "        n, x, _ = plt.hist(list(clos.values()),  bins = 20, weights = w)\n",
    "        plt.close()\n",
    "        bin_centers = 0.5*(x[1:]+x[:-1])\n",
    "        self._close = [bin_centers, n]\n",
    "\n",
    "    def indeg(self):\n",
    "        indeg = nx.in_degree_centrality(G)\n",
    "        w = np.ones_like(list(indeg.values())) / (len(indeg.values()))\n",
    "        n, x, _ = plt.hist(list(indeg.values()),  bins = 20, weights = w)\n",
    "        plt.close()\n",
    "        bin_centers = 0.5*(x[1:]+x[:-1])\n",
    "        self._indeg = [bin_centers, n]\n",
    "\n",
    "    def outdeg(self):\n",
    "        outdeg = nx.out_degree_centrality(G)\n",
    "        w = np.ones_like(list(outdeg.values())) / (len(outdeg.values()))\n",
    "        n, x, _ = plt.hist(list(outdeg.values()),  bins = 20, weights = w)\n",
    "        plt.close()\n",
    "        bin_centers = 0.5*(x[1:]+x[:-1])\n",
    "        self._outdeg = [bin_centers, n]\n",
    "\n",
    "    # helpers\n",
    "    def component(self, G):\n",
    "        S = sorted(nx.strongly_connected_components(G), key = len, reverse = True)\n",
    "        return self.G.subgraph(S[0])\n",
    "\n",
    "    def sampler(self, G):\n",
    "        N = random.sample(self.G.nodes(), 1000)\n",
    "        return N"
   ],
   "metadata": {
    "collapsed": false,
    "pycharm": {
     "name": "#%%\n"
    }
   }
  },
  {
   "cell_type": "code",
   "execution_count": 64,
   "outputs": [],
   "source": [
    "class Fitting:\n",
    "\n",
    "    def __init__(self, G):\n",
    "        self.G = G\n",
    "        self._in_ccdf_data = None\n",
    "        self._out_ccdf_data = None\n",
    "        self.in_ccdf = np.array(list(dict(G.in_degree).values()))\n",
    "        self.out_ccdf = np.array(list(dict(G.out_degree).values()))\n",
    "        self.fit_in_ccdf = powerlaw.Fit(self.in_ccdf, verbose=False)\n",
    "        self.fit_out_ccdf = powerlaw.Fit(self.out_ccdf, verbose=False)\n",
    "\n",
    "    def plotter(self):\n",
    "        self.constructor()\n",
    "        fig, axes = plt.subplots(2, 2, figsize=(17, 17))\n",
    "        fig.patch.set_facecolor('w')\n",
    "        inoutname = ['In', 'Out']\n",
    "        #plt.style.use('seaborn')\n",
    "        fig.suptitle(f'CCDF Fitting For {self.G.name}',  fontsize=36)\n",
    "        # ccdf wo fit\n",
    "        D = [self._out_ccdf_data, self._in_ccdf_data]\n",
    "        bins = [entry[0] for entry in D]\n",
    "        y = [entry[1] for entry in D]\n",
    "        for idx, ax in enumerate(axes[0]):\n",
    "            ax.loglog(bins[idx], y[idx], 'r', linestyle='--', marker='o')\n",
    "            ax.set_title(f\"{inoutname[idx]} CCDF\")\n",
    "            ax.set_xlabel('x')\n",
    "            ax.set_ylabel('P(x>k)')\n",
    "            ax.set_yscale(\"symlog\", linthresh=0.00001)\n",
    "            ax.set_xscale(\"log\")\n",
    "\n",
    "        # FITTING w. CCDF\n",
    "        D = [self.fit_in_ccdf, self.fit_out_ccdf]\n",
    "        for idx, ax in enumerate(axes[1]):\n",
    "            R, p = D[idx].ccdf()\n",
    "            ax.plot(R, p, 'r', marker='o')\n",
    "            D[idx].power_law.plot_ccdf(ax=ax, color='y', label='power-law fit')\n",
    "            D[idx].exponential.plot_ccdf(ax=ax, color='g', label='exponential fit')\n",
    "            D[idx].lognormal.plot_ccdf(ax=ax, color='b', label='lognormal fit')\n",
    "            D[idx].truncated_power_law.plot_ccdf(ax=ax, color='k', label='power-law w. exp. fit')\n",
    "            ax.legend(loc='upper right')\n",
    "            ax.set_title(f\"Fitting {inoutname[idx]} CCDF\")\n",
    "            ax.set_xlabel('x')\n",
    "            ax.set_ylabel('P(x>k)')\n",
    "            ax.set_yscale(\"symlog\", linthresh=0.00001)\n",
    "            ax.set_xscale(\"log\")\n",
    "            #ax.ylim(0.001, 1.2)\n",
    "\n",
    "        return fig\n",
    "\n",
    "    def constructor(self):\n",
    "        self.ccdf()\n",
    "\n",
    "    def ccdf(self):\n",
    "            IN = list(dict(G.in_degree).values())\n",
    "            n,x, _ = plt.hist(IN, density=True, cumulative=True, bins=100)\n",
    "            plt.close()\n",
    "            bin_centers = 0.5*(x[1:]+x[:-1])\n",
    "            y = [1 - v for v in n]\n",
    "            self._in_ccdf_data = [bin_centers, y]\n",
    "\n",
    "            OUT = list(dict(G.out_degree).values())\n",
    "            n,x, _ = plt.hist(OUT, density=True, cumulative=True, bins=100)\n",
    "            plt.close()\n",
    "            bin_centers = 0.5*(x[1:]+x[:-1])\n",
    "            y = [1 - v for v in n]\n",
    "            self._out_ccdf_data = [bin_centers, y]"
   ],
   "metadata": {
    "collapsed": false,
    "pycharm": {
     "name": "#%%\n"
    }
   }
  },
  {
   "cell_type": "code",
   "execution_count": 65,
   "outputs": [],
   "source": [
    "class Configuration:\n",
    "\n",
    "    def __init__(self, G):\n",
    "        self.G = G\n",
    "        self.din = [G.in_degree[node] for node in G.nodes]\n",
    "        self.dout = [G.out_degree[node] for node in G.nodes]\n",
    "        self.C = nx.directed_configuration_model(self.din, self.dout)"
   ],
   "metadata": {
    "collapsed": false,
    "pycharm": {
     "name": "#%%\n"
    }
   }
  },
  {
   "cell_type": "code",
   "execution_count": 66,
   "outputs": [],
   "source": [
    "class Shorthpath:\n",
    "\n",
    "    def __init__(self, G):\n",
    "        self.G = G\n",
    "        self.L = None\n",
    "        self.path_lens = None\n",
    "\n",
    "    def plotter(self):\n",
    "        self.constructor()\n",
    "        fig, axes = plt.subplots(1, 1, figsize=(10, 10))\n",
    "        fig.patch.set_facecolor('w')\n",
    "        axes.bar(list(self.path_lens.keys()), [value / sum(list(self.path_lens.values())) for value in list(self.path_lens.values())])\n",
    "        fig.suptitle(f'{self.G.name} Shortest Path Length Distributions', fontsize=22)\n",
    "        axes.set_xlabel('d'); axes.set_ylabel('P(d)')\n",
    "        return fig\n",
    "\n",
    "\n",
    "    def constructor(self):\n",
    "        self.get_largest_components()\n",
    "        self.get_sample_shorted_paths()\n",
    "\n",
    "    def get_largest_components(self):\n",
    "        components_sorted = sorted( nx.strongly_connected_components(self.G) , key=len, reverse=True )\n",
    "        self.L = self.G.subgraph(components_sorted[0])\n",
    "\n",
    "    def get_sample_shorted_paths(self):\n",
    "        path_lens = []\n",
    "\n",
    "        for i in range(10000):\n",
    "            nodes = random.sample(self.L.nodes(), 2)\n",
    "            shortest_path = nx.shortest_path(self.L, source=nodes[0], target=nodes[1])\n",
    "            path_lens.append(len(shortest_path))\n",
    "        self.path_lens = Counter(path_lens)"
   ],
   "metadata": {
    "collapsed": false,
    "pycharm": {
     "name": "#%%\n"
    }
   }
  },
  {
   "cell_type": "code",
   "execution_count": 67,
   "outputs": [],
   "source": [
    "def run_deg(G):\n",
    "    # save degree dist plot\n",
    "    d = Degrees(G)\n",
    "    fig = d.plotter()\n",
    "    fig.savefig(f\"plots/{G.name}/degrees-{G.name}\")\n",
    "    plt.close()"
   ],
   "metadata": {
    "collapsed": false,
    "pycharm": {
     "name": "#%%\n"
    }
   }
  },
  {
   "cell_type": "code",
   "execution_count": 68,
   "outputs": [],
   "source": [
    "def run_fit(G):\n",
    "    # save ccdf fitting plot\n",
    "    d = Fitting(G)\n",
    "    fig = d.plotter()\n",
    "    fig.savefig(f\"plots/{G.name}/ccdf-fit-{d.G.name}\")\n",
    "    plt.close()"
   ],
   "metadata": {
    "collapsed": false,
    "pycharm": {
     "name": "#%%\n"
    }
   }
  },
  {
   "cell_type": "code",
   "execution_count": 69,
   "outputs": [],
   "source": [
    "def run_centrality(G):\n",
    "    # save centrality dest plot\n",
    "    b = Centrality(G)\n",
    "    fig = b.plotter()\n",
    "    fig.savefig(f\"plots/{G.name}/centrality-{b.G.name}\")\n",
    "    plt.close()"
   ],
   "metadata": {
    "collapsed": false,
    "pycharm": {
     "name": "#%%\n"
    }
   }
  },
  {
   "cell_type": "code",
   "execution_count": 70,
   "outputs": [],
   "source": [
    "def run_short_paths(G):\n",
    "    # shortest path histogram\n",
    "    s = Shorthpath(G)\n",
    "    fig = s.plotter()\n",
    "    fig.savefig(f\"plots/{G.name}/shortest-paths-{s.G.name}\")\n",
    "    plt.close()"
   ],
   "metadata": {
    "collapsed": false,
    "pycharm": {
     "name": "#%%\n"
    }
   }
  },
  {
   "cell_type": "code",
   "execution_count": 71,
   "outputs": [],
   "source": [
    "def run_all():\n",
    "    for G in tqdm(S.values()):\n",
    "        #run_deg(G)\n",
    "        #run_fit(G)\n",
    "        run_centrality(G)\n",
    "        #run_short_paths(G)"
   ],
   "metadata": {
    "collapsed": false,
    "pycharm": {
     "name": "#%%\n"
    }
   }
  },
  {
   "cell_type": "code",
   "execution_count": 72,
   "outputs": [],
   "source": [
    "G = S[0]\n",
    "run_deg(G)"
   ],
   "metadata": {
    "collapsed": false,
    "pycharm": {
     "name": "#%%\n"
    }
   }
  },
  {
   "cell_type": "code",
   "execution_count": 75,
   "outputs": [
    {
     "name": "stderr",
     "output_type": "stream",
     "text": [
      "  0%|          | 0/9 [02:21<?, ?it/s]\n"
     ]
    },
    {
     "ename": "AttributeError",
     "evalue": "'set' object has no attribute 'values'",
     "output_type": "error",
     "traceback": [
      "\u001B[0;31m---------------------------------------------------------------------------\u001B[0m",
      "\u001B[0;31mAttributeError\u001B[0m                            Traceback (most recent call last)",
      "\u001B[0;32m<ipython-input-75-13c29c2dc836>\u001B[0m in \u001B[0;36m<module>\u001B[0;34m\u001B[0m\n\u001B[0;32m----> 1\u001B[0;31m \u001B[0mrun_all\u001B[0m\u001B[0;34m(\u001B[0m\u001B[0;34m)\u001B[0m\u001B[0;34m\u001B[0m\u001B[0;34m\u001B[0m\u001B[0m\n\u001B[0m\u001B[1;32m      2\u001B[0m \u001B[0;34m\u001B[0m\u001B[0m\n",
      "\u001B[0;32m<ipython-input-71-57a1d5613d3d>\u001B[0m in \u001B[0;36mrun_all\u001B[0;34m()\u001B[0m\n\u001B[1;32m      3\u001B[0m         \u001B[0;31m#run_deg(G)\u001B[0m\u001B[0;34m\u001B[0m\u001B[0;34m\u001B[0m\u001B[0;34m\u001B[0m\u001B[0m\n\u001B[1;32m      4\u001B[0m         \u001B[0;31m#run_fit(G)\u001B[0m\u001B[0;34m\u001B[0m\u001B[0;34m\u001B[0m\u001B[0;34m\u001B[0m\u001B[0m\n\u001B[0;32m----> 5\u001B[0;31m         \u001B[0mrun_centrality\u001B[0m\u001B[0;34m(\u001B[0m\u001B[0mG\u001B[0m\u001B[0;34m)\u001B[0m\u001B[0;34m\u001B[0m\u001B[0;34m\u001B[0m\u001B[0m\n\u001B[0m\u001B[1;32m      6\u001B[0m         \u001B[0;31m#run_short_paths(G)\u001B[0m\u001B[0;34m\u001B[0m\u001B[0;34m\u001B[0m\u001B[0;34m\u001B[0m\u001B[0m\n\u001B[1;32m      7\u001B[0m \u001B[0;34m\u001B[0m\u001B[0m\n",
      "\u001B[0;32m<ipython-input-69-fce2bbe39c85>\u001B[0m in \u001B[0;36mrun_centrality\u001B[0;34m(G)\u001B[0m\n\u001B[1;32m      2\u001B[0m     \u001B[0;31m# save centrality dest plot\u001B[0m\u001B[0;34m\u001B[0m\u001B[0;34m\u001B[0m\u001B[0;34m\u001B[0m\u001B[0m\n\u001B[1;32m      3\u001B[0m     \u001B[0mb\u001B[0m \u001B[0;34m=\u001B[0m \u001B[0mCentrality\u001B[0m\u001B[0;34m(\u001B[0m\u001B[0mG\u001B[0m\u001B[0;34m)\u001B[0m\u001B[0;34m\u001B[0m\u001B[0;34m\u001B[0m\u001B[0m\n\u001B[0;32m----> 4\u001B[0;31m     \u001B[0mfig\u001B[0m \u001B[0;34m=\u001B[0m \u001B[0mb\u001B[0m\u001B[0;34m.\u001B[0m\u001B[0mplotter\u001B[0m\u001B[0;34m(\u001B[0m\u001B[0;34m)\u001B[0m\u001B[0;34m\u001B[0m\u001B[0;34m\u001B[0m\u001B[0m\n\u001B[0m\u001B[1;32m      5\u001B[0m     \u001B[0mfig\u001B[0m\u001B[0;34m.\u001B[0m\u001B[0msavefig\u001B[0m\u001B[0;34m(\u001B[0m\u001B[0;34mf\"plots/{G.name}/centrality-{b.G.name}\"\u001B[0m\u001B[0;34m)\u001B[0m\u001B[0;34m\u001B[0m\u001B[0;34m\u001B[0m\u001B[0m\n\u001B[1;32m      6\u001B[0m     \u001B[0mplt\u001B[0m\u001B[0;34m.\u001B[0m\u001B[0mclose\u001B[0m\u001B[0;34m(\u001B[0m\u001B[0;34m)\u001B[0m\u001B[0;34m\u001B[0m\u001B[0;34m\u001B[0m\u001B[0m\n",
      "\u001B[0;32m<ipython-input-74-19cb6393c286>\u001B[0m in \u001B[0;36mplotter\u001B[0;34m(self)\u001B[0m\n\u001B[1;32m     12\u001B[0m \u001B[0;34m\u001B[0m\u001B[0m\n\u001B[1;32m     13\u001B[0m     \u001B[0;32mdef\u001B[0m \u001B[0mplotter\u001B[0m\u001B[0;34m(\u001B[0m\u001B[0mself\u001B[0m\u001B[0;34m)\u001B[0m\u001B[0;34m:\u001B[0m\u001B[0;34m\u001B[0m\u001B[0;34m\u001B[0m\u001B[0m\n\u001B[0;32m---> 14\u001B[0;31m         \u001B[0mself\u001B[0m\u001B[0;34m.\u001B[0m\u001B[0mconstructor\u001B[0m\u001B[0;34m(\u001B[0m\u001B[0;34m)\u001B[0m\u001B[0;34m\u001B[0m\u001B[0;34m\u001B[0m\u001B[0m\n\u001B[0m\u001B[1;32m     15\u001B[0m         \u001B[0mself\u001B[0m\u001B[0;34m.\u001B[0m\u001B[0mconfusion\u001B[0m\u001B[0;34m(\u001B[0m\u001B[0;34m)\u001B[0m\u001B[0;34m\u001B[0m\u001B[0;34m\u001B[0m\u001B[0m\n\u001B[1;32m     16\u001B[0m         \u001B[0mfig\u001B[0m\u001B[0;34m,\u001B[0m \u001B[0maxes\u001B[0m \u001B[0;34m=\u001B[0m \u001B[0mplt\u001B[0m\u001B[0;34m.\u001B[0m\u001B[0msubplots\u001B[0m\u001B[0;34m(\u001B[0m\u001B[0;36m5\u001B[0m\u001B[0;34m,\u001B[0m \u001B[0;36m1\u001B[0m\u001B[0;34m,\u001B[0m \u001B[0mfigsize\u001B[0m\u001B[0;34m=\u001B[0m\u001B[0;34m(\u001B[0m\u001B[0;36m17\u001B[0m\u001B[0;34m,\u001B[0m \u001B[0;36m17\u001B[0m\u001B[0;34m)\u001B[0m\u001B[0;34m)\u001B[0m\u001B[0;34m\u001B[0m\u001B[0;34m\u001B[0m\u001B[0m\n",
      "\u001B[0;32m<ipython-input-74-19cb6393c286>\u001B[0m in \u001B[0;36mconstructor\u001B[0;34m(self)\u001B[0m\n\u001B[1;32m     81\u001B[0m         \u001B[0mself\u001B[0m\u001B[0;34m.\u001B[0m\u001B[0mbetweenness\u001B[0m\u001B[0;34m(\u001B[0m\u001B[0;34m)\u001B[0m\u001B[0;34m\u001B[0m\u001B[0;34m\u001B[0m\u001B[0m\n\u001B[1;32m     82\u001B[0m         \u001B[0mself\u001B[0m\u001B[0;34m.\u001B[0m\u001B[0meigen\u001B[0m\u001B[0;34m(\u001B[0m\u001B[0;34m)\u001B[0m\u001B[0;34m\u001B[0m\u001B[0;34m\u001B[0m\u001B[0m\n\u001B[0;32m---> 83\u001B[0;31m         \u001B[0mself\u001B[0m\u001B[0;34m.\u001B[0m\u001B[0mcloseness\u001B[0m\u001B[0;34m(\u001B[0m\u001B[0;34m)\u001B[0m\u001B[0;34m\u001B[0m\u001B[0;34m\u001B[0m\u001B[0m\n\u001B[0m\u001B[1;32m     84\u001B[0m         \u001B[0mself\u001B[0m\u001B[0;34m.\u001B[0m\u001B[0mindeg\u001B[0m\u001B[0;34m(\u001B[0m\u001B[0;34m)\u001B[0m\u001B[0;34m\u001B[0m\u001B[0;34m\u001B[0m\u001B[0m\n\u001B[1;32m     85\u001B[0m         \u001B[0mself\u001B[0m\u001B[0;34m.\u001B[0m\u001B[0moutdeg\u001B[0m\u001B[0;34m(\u001B[0m\u001B[0;34m)\u001B[0m\u001B[0;34m\u001B[0m\u001B[0;34m\u001B[0m\u001B[0m\n",
      "\u001B[0;32m<ipython-input-74-19cb6393c286>\u001B[0m in \u001B[0;36mcloseness\u001B[0;34m(self)\u001B[0m\n\u001B[1;32m    112\u001B[0m                    \u001B[0;34m\"file\"\u001B[0m\u001B[0;34m:\u001B[0m \u001B[0;34mf\"eigen-cent-{self.G.name}\"\u001B[0m\u001B[0;34m,\u001B[0m\u001B[0;34m\u001B[0m\u001B[0;34m\u001B[0m\u001B[0m\n\u001B[1;32m    113\u001B[0m                    \"xlab\": \"C_b\", \"ylab\": \"P(C_b)\"}\n\u001B[0;32m--> 114\u001B[0;31m         \u001B[0mw\u001B[0m \u001B[0;34m=\u001B[0m \u001B[0mnp\u001B[0m\u001B[0;34m.\u001B[0m\u001B[0mones_like\u001B[0m\u001B[0;34m(\u001B[0m\u001B[0mlist\u001B[0m\u001B[0;34m(\u001B[0m\u001B[0mclos\u001B[0m\u001B[0;34m.\u001B[0m\u001B[0mvalues\u001B[0m\u001B[0;34m(\u001B[0m\u001B[0;34m)\u001B[0m\u001B[0;34m)\u001B[0m\u001B[0;34m)\u001B[0m \u001B[0;34m/\u001B[0m \u001B[0;34m(\u001B[0m\u001B[0mlen\u001B[0m\u001B[0;34m(\u001B[0m\u001B[0mclos\u001B[0m\u001B[0;34m.\u001B[0m\u001B[0mvalues\u001B[0m\u001B[0;34m(\u001B[0m\u001B[0;34m)\u001B[0m\u001B[0;34m)\u001B[0m\u001B[0;34m)\u001B[0m\u001B[0;34m\u001B[0m\u001B[0;34m\u001B[0m\u001B[0m\n\u001B[0m\u001B[1;32m    115\u001B[0m         \u001B[0mn\u001B[0m\u001B[0;34m,\u001B[0m \u001B[0mx\u001B[0m\u001B[0;34m,\u001B[0m \u001B[0m_\u001B[0m \u001B[0;34m=\u001B[0m \u001B[0mplt\u001B[0m\u001B[0;34m.\u001B[0m\u001B[0mhist\u001B[0m\u001B[0;34m(\u001B[0m\u001B[0mlist\u001B[0m\u001B[0;34m(\u001B[0m\u001B[0mclos\u001B[0m\u001B[0;34m.\u001B[0m\u001B[0mvalues\u001B[0m\u001B[0;34m(\u001B[0m\u001B[0;34m)\u001B[0m\u001B[0;34m)\u001B[0m\u001B[0;34m,\u001B[0m  \u001B[0mbins\u001B[0m \u001B[0;34m=\u001B[0m \u001B[0;36m20\u001B[0m\u001B[0;34m,\u001B[0m \u001B[0mweights\u001B[0m \u001B[0;34m=\u001B[0m \u001B[0mw\u001B[0m\u001B[0;34m)\u001B[0m\u001B[0;34m\u001B[0m\u001B[0;34m\u001B[0m\u001B[0m\n\u001B[1;32m    116\u001B[0m         \u001B[0mplt\u001B[0m\u001B[0;34m.\u001B[0m\u001B[0mclose\u001B[0m\u001B[0;34m(\u001B[0m\u001B[0;34m)\u001B[0m\u001B[0;34m\u001B[0m\u001B[0;34m\u001B[0m\u001B[0m\n",
      "\u001B[0;31mAttributeError\u001B[0m: 'set' object has no attribute 'values'"
     ]
    }
   ],
   "source": [
    "run_all()\n"
   ],
   "metadata": {
    "collapsed": false,
    "pycharm": {
     "name": "#%%\n"
    }
   }
  },
  {
   "cell_type": "code",
   "execution_count": null,
   "outputs": [],
   "source": [],
   "metadata": {
    "collapsed": false,
    "pycharm": {
     "name": "#%%\n"
    }
   }
  }
 ],
 "metadata": {
  "kernelspec": {
   "display_name": "Python 3",
   "language": "python",
   "name": "python3"
  },
  "language_info": {
   "codemirror_mode": {
    "name": "ipython",
    "version": 3
   },
   "file_extension": ".py",
   "mimetype": "text/x-python",
   "name": "python",
   "nbconvert_exporter": "python",
   "pygments_lexer": "ipython3",
   "version": "3.8.3"
  }
 },
 "nbformat": 4,
 "nbformat_minor": 4
}