{
 "cells": [
  {
   "cell_type": "markdown",
   "metadata": {},
   "source": [
    "# Analysis of the Gnutella Network"
   ]
  },
  {
   "cell_type": "code",
   "execution_count": 19,
   "metadata": {},
   "outputs": [],
   "source": [
    "# imports\n",
    "\n",
    "import os\n",
    "import random\n",
    "import warnings\n",
    "warnings.filterwarnings(\"ignore\")\n",
    "import powerlaw\n",
    "import numpy as np\n",
    "import pandas as pd\n",
    "from tqdm import tqdm\n",
    "import networkx as nx\n",
    "from collections import Counter\n",
    "from matplotlib import pyplot as plt\n",
    "import seaborn as sns\n",
    "import operator\n"
   ]
  },
  {
   "cell_type": "code",
   "execution_count": 20,
   "metadata": {
    "pycharm": {
     "name": "#%%\n"
    }
   },
   "outputs": [],
   "source": [
    "# constructing networks\n",
    "\n",
    "path = '../data/'\n",
    "targets = [path + target for target in os.listdir(path)]\n",
    "S = {idx: nx.read_edgelist(target, delimiter=\"\\t\", create_using=nx.DiGraph(name='test')) \\\n",
    "     for idx, target in enumerate(targets)}\n",
    "for idx, G in enumerate(S):\n",
    "    S[G].name = targets[idx][-6:-4] + '-08-2002'\n"
   ]
  },
  {
   "cell_type": "code",
   "execution_count": 21,
   "metadata": {},
   "outputs": [],
   "source": [
    "# plotting degrees distributions\n",
    "class Degrees:\n",
    "\n",
    "    def __init__(self, G):\n",
    "        self.graph = G\n",
    "        self.infos = {'graph': self.graph.name,\n",
    "                      'folder': \"-\".join(self.graph.name.split(\"-\")[::-1])}\n",
    "        self._in_degrees = None\n",
    "        self._out_degrees = None\n",
    "        self._logbins = None\n",
    "\n",
    "    def plotter(self):\n",
    "        # data corpus gathering\n",
    "        self.constructor()\n",
    "        self.clustering()\n",
    "\n",
    "        D = [self._in_degrees, self._out_degrees]\n",
    "        X = [entry[0] for entry in D]\n",
    "        Y = [entry[1] for entry in D]\n",
    "        M = [entry[2] for entry in D]\n",
    "\n",
    "        #################\n",
    "        # plotting part #\n",
    "        #################\n",
    "        fig, axes = plt.subplots(3, 2, figsize=(17, 17))\n",
    "        #fig.patch.set_facecolor('w')\n",
    "        colors = ['bo', 'ro']\n",
    "        inoutname = ['In', 'Out']\n",
    "        plt.style.use('dark_background')\n",
    "        fig.suptitle(f'{self.graph.name} Degree Distribution Plots',  fontsize=36)\n",
    "\n",
    "        # loglog degree dist. plot\n",
    "        for idx, ax in enumerate(axes[0]):\n",
    "            ax.loglog(X[idx], Y[idx], colors[idx])\n",
    "            ax.set_title(f\"LogLog {inoutname[idx]} Degree\")\n",
    "            ax.set_xlabel(M[idx]['xlab'])\n",
    "            ax.set_ylabel(M[idx]['ylab'])\n",
    "\n",
    "        # linear degree dist. plot\n",
    "        for idx, ax in enumerate(axes[1]):\n",
    "            ax.plot(X[idx], Y[idx], colors[idx])\n",
    "            ax.set_title(f\"Linear {inoutname[idx]} Degree\")\n",
    "            ax.set_xlabel(M[idx]['xlab'])\n",
    "            ax.set_ylabel(M[idx]['ylab'])\n",
    "\n",
    "        # log binned degree dist. plot\n",
    "        #D = self._logbins\n",
    "        #IN = D[0]; OUT = D[1]; w = D[2]\n",
    "        #axes[2][0].hist([IN, OUT], bins=np.logspace(np.log10(1), np.log10(max(IN)), num=15), weights=[w,w], log=True, label=[\"In degree\", \"Out degree\"])\n",
    "        #axes[2][0].set_yscale(\"symlog\", linthresh=0.0001)\n",
    "        #axes[2][0].set_xscale(\"log\")\n",
    "        #axes[2][0].set_title(f\"{self.infos['graph']}, Log binning of in degree distribution\")\n",
    "        #axes[2][0].set_xlabel(f\"k\"); axes[2][0].set_ylabel(f\"P(k)\"); axes[2][0].legend()\n",
    "\n",
    "        # ccdf plotting\n",
    "        D = [self._in_ccdf_data, self._out_ccdf_data]\n",
    "        bin_centers = [entry[2] for entry in D]\n",
    "        y = [entry[3] for entry in D]\n",
    "        for idx, ax in enumerate(axes[2]):\n",
    "            ax.plot(bin_centers[idx], y[idx], colors[idx])  ## using bin_centers rather than edges\n",
    "            ax.set_title(f\"{inoutname[idx]} Degree CCDF\")\n",
    "            ax.set_xlabel('x')\n",
    "            ax.set_ylabel('P(x>k)')\n",
    "            ax.set_yscale(\"symlog\", linthresh=0.00001)\n",
    "            ax.set_xscale(\"log\")\n",
    "\n",
    "        return fig\n",
    "\n",
    "    def constructor(self):\n",
    "        self.out_degrees()\n",
    "        self.in_degrees()\n",
    "        #self.logbins()\n",
    "        self.ccdf()\n",
    "\n",
    "    def in_degrees(self):\n",
    "        freqs = Counter(dict(self.graph.in_degree).values())\n",
    "        X = freqs.keys()\n",
    "        Y = freqs.values()\n",
    "        M = self.infos\n",
    "        M['title'] = f'degree distribution'\n",
    "        M['xlab'] = 'k'; M['ylab'] = 'P(k)'\n",
    "        self._in_degrees = [X, Y, M][:]\n",
    "\n",
    "\n",
    "    def out_degrees(self):\n",
    "        freqs = Counter(dict(self.graph.out_degree).values())\n",
    "        X = freqs.keys()\n",
    "        Y = freqs.values()\n",
    "        M = self.infos\n",
    "        M['title'] = f'degree distribution'\n",
    "        M['xlab'] = 'k'; M['ylab'] = 'P(k)'\n",
    "        self._out_degrees = [X, Y, M][:]\n",
    "\n",
    "\n",
    "    def logbins(self):\n",
    "        \"\"\"\n",
    "        takes in graph.\n",
    "        saves log binned deg. dist. plots.\n",
    "        \"\"\"\n",
    "        in_deg = list(dict(self.graph.in_degree).values())\n",
    "        out_deg = list(dict(self.graph.out_degree).values())\n",
    "        w = np.ones_like(in_deg) / len(out_deg)\n",
    "        self._logbins = [in_deg, out_deg, w]\n",
    "\n",
    "    def ccdf(self):\n",
    "            IN = list(dict(self.graph.in_degree).values())\n",
    "            n,x, _ = plt.hist(IN, density=True, cumulative=True, bins=100)\n",
    "            plt.close()\n",
    "            bin_centers = 0.5*(x[1:]+x[:-1])\n",
    "            y = [1 - v for v in n]\n",
    "            self._in_ccdf_data = [n, x, bin_centers, y]\n",
    "\n",
    "            OUT = list(dict(self.graph.out_degree).values())\n",
    "            n,x, _ = plt.hist(OUT, density=True, cumulative=True, bins=100)\n",
    "            plt.close()\n",
    "            bin_centers = 0.5*(x[1:]+x[:-1])\n",
    "            y = [1 - v for v in n]\n",
    "            self._out_ccdf_data = [n, x, bin_centers, y]\n",
    "\n",
    "\n",
    "    def clustering(self):\n",
    "        # data setup\n",
    "        G_cluster = Counter(dict(nx.clustering(self.graph)).values())\n",
    "        X = G_cluster.keys()\n",
    "        Y = G_cluster.values()\n",
    "        Y = [y / max(Y) for y in Y]\n",
    "\n",
    "        # plotting\n",
    "        fig, axes = plt.subplots(1, 2, figsize=(14, 7))\n",
    "        #fig.patch.set_facecolor('w')\n",
    "        plt.style.use('dark_background')\n",
    "        fig.suptitle(f'{self.graph.name} Clustering Plots',  fontsize=26)\n",
    "        axes[0].plot(X, Y, 'o')\n",
    "        axes[0].set_title('Linear scale')\n",
    "        axes[0].set_xlabel('C')\n",
    "        axes[0].set_ylabel('P(C)')\n",
    "        axes[1].loglog(X, Y, 'o')\n",
    "        axes[1].set_xlabel('C')\n",
    "        axes[1].set_ylabel('P(C)')\n",
    "        axes[1].set_title('LogLog scale')\n",
    "        plt.savefig(f'../docs/plots/{self.graph.name}/clustering-{self.graph.name}')\n",
    "        plt.close()"
   ]
  },
  {
   "cell_type": "code",
   "execution_count": 22,
   "metadata": {
    "pycharm": {
     "name": "#%%\n"
    }
   },
   "outputs": [],
   "source": [
    "class Centrality:\n",
    "\n",
    "    def __init__(self, G):\n",
    "        self.G = G\n",
    "        self.infos = {'title': self.G.name}\n",
    "        self._between = None\n",
    "        self._eigen = None\n",
    "        self._close = None\n",
    "        self._indeg = None\n",
    "        self._outdeg = None\n",
    "        self.centrality_df = None\n",
    "        self.L = None\n",
    "        self.close_dict = None\n",
    "\n",
    "    def plotter(self):\n",
    "        self.constructor()\n",
    "        self.confusion()\n",
    "        fig, axes = plt.subplots(5, 1, figsize=(14, 35))\n",
    "        #fig.patch.set_facecolor('w')\n",
    "        plt.style.use('dark_background')\n",
    "        fig.suptitle(f'{self.G.name} Centrality Plots',  fontsize=36)\n",
    "\n",
    "\n",
    "        B = self._between\n",
    "        axes[0].plot(B[0], B[1], 'co')\n",
    "        axes[0].set_title('Betweenness Centrality')\n",
    "        axes[0].set_xlabel(r\"$C_d$\")\n",
    "        axes[0].set_ylabel(r\"$P(C_d)$\")\n",
    "\n",
    "        E = self._eigen\n",
    "        axes[1].plot(E[0], E[1], 'co')\n",
    "        axes[1].set_title('Eigenvector Centrality')\n",
    "        axes[1].set_xlabel(r\"$C_d$\")\n",
    "        axes[1].set_ylabel(r\"$P(C_d)$\")\n",
    "\n",
    "        C = self._close\n",
    "        axes[2].scatter(C[0], C[1])\n",
    "        axes[2].set_title('Closeness Centrality')\n",
    "        axes[2].set_xlabel(r\"$C_d$\")\n",
    "        axes[2].set_ylabel(r\"$P(C_d)$\")\n",
    "\n",
    "        I = self._indeg\n",
    "        axes[3].plot(I[0], I[1], 'co')\n",
    "        axes[3].set_title('In Degree Centrality')\n",
    "        axes[3].set_xlabel(r\"$C_d$\")\n",
    "        axes[3].set_ylabel(r\"$P(C_d)$\")\n",
    "\n",
    "        O = self._outdeg\n",
    "        axes[4].plot(O[0], O[1], 'co')\n",
    "        axes[4].set_title('Out Degree Centrality')\n",
    "        axes[4].set_xlabel(r\"$C_d$\")\n",
    "        axes[4].set_ylabel(r\"$P(C_d)$\")\n",
    "\n",
    "        return fig\n",
    "\n",
    "\n",
    "    def confusion(self):\n",
    "        v = {}\n",
    "        v['indeg.'] = []\n",
    "        v['outdeg.'] = []\n",
    "        v['betw.'] = []\n",
    "        v['close'] = []\n",
    "        v['eigen'] = []\n",
    "        v['keys'] = []\n",
    "\n",
    "        for key in self.close_dict.keys():\n",
    "            v['keys'].append(key)\n",
    "            v['indeg.'].append(self.indeg_dict[key])\n",
    "            v['outdeg.'].append(self.outgeg_dict[key])\n",
    "            v['betw.'].append(self.between_dict[key])\n",
    "            v['close'].append(self.close_dict[key])\n",
    "            v['eigen'].append(self.eigen_dict[key])\n",
    "\n",
    "        centrality_df = pd.DataFrame.from_dict(v, orient='index').transpose()\n",
    "        centrality_df = centrality_df.set_index('keys')\n",
    "        self.centrality_df = centrality_df\n",
    "        corr_mat = centrality_df.astype(float).corr('spearman')\n",
    "        sns.heatmap(corr_mat, annot = True)\n",
    "        plt.title('Centrality correlation matrix')\n",
    "        plt.savefig(f'../docs/plots/{self.G.name}/centrality-confusion-{self.G.name}', transparent=False, dpi=300)\n",
    "        plt.close()\n",
    "\n",
    "    def constructor(self):\n",
    "        self.component()\n",
    "        self.betweenness()\n",
    "        self.eigen()\n",
    "        self.closeness()\n",
    "        self.indeg()\n",
    "        self.outdeg()\n",
    "\n",
    "    def betweenness(self):\n",
    "        betw = nx.betweenness_centrality(self.G, k=1000)\n",
    "        in_meta = {\"title\": f\"{self.G.name}, betweenness centrality\",\n",
    "           \"folder\": \"-\".join(self.G.name.split(\"-\")[::-1]),\n",
    "           \"file\": f\"betw-cent-{self.G.name}\",\n",
    "           \"xlab\": \"C_b\", \"ylab\": \"P(C_b)\"}\n",
    "        w = np.ones_like(list(betw.values())) / (len(betw.values()))\n",
    "        n, x, _ = plt.hist(list(betw.values()),  bins = 20, weights = w)\n",
    "        plt.close()\n",
    "        bin_centers = 0.5*(x[1:]+x[:-1])\n",
    "        self.between_dict = betw\n",
    "        self._between = [bin_centers, n]\n",
    "\n",
    "    def eigen(self):\n",
    "        eigen = nx.eigenvector_centrality(self.G, max_iter=200)\n",
    "        w = np.ones_like(list(eigen.values())) / (len(eigen.values()))\n",
    "        n, x, _ = plt.hist(list(eigen.values()),  bins = 20, weights = w)\n",
    "        plt.close()\n",
    "        bin_centers = 0.5*(x[1:]+x[:-1])\n",
    "        self.eigen_dict = eigen\n",
    "        self._eigen = [bin_centers, n]\n",
    "\n",
    "\n",
    "    def closeness(self):\n",
    "        clos = {}\n",
    "        for node in self.sampler():\n",
    "            clos[node] = nx.closeness_centrality(self.L, u=node)\n",
    "        in_meta = {\"title\": f\"{self.G.name}, eigenvector centrality\",\n",
    "                   \"folder\": \"-\".join(self.G.name.split(\"-\")[::-1]),\n",
    "                   \"file\": f\"eigen-cent-{self.G.name}\",\n",
    "                   \"xlab\": \"C_b\", \"ylab\": \"P(C_b)\"}\n",
    "        w = np.ones_like(list(clos.values())) / (len(clos.values()))\n",
    "        n, x, _ = plt.hist(list(clos.values()),  bins = 20, weights = w)\n",
    "        plt.close()\n",
    "        bin_centers = 0.5*(x[1:]+x[:-1])\n",
    "        self.close_dict = clos\n",
    "        self._close = [bin_centers, n]\n",
    "\n",
    "    def indeg(self):\n",
    "        indeg = nx.in_degree_centrality(self.G)\n",
    "        w = np.ones_like(list(indeg.values())) / (len(indeg.values()))\n",
    "        n, x, _ = plt.hist(list(indeg.values()),  bins = 20, weights = w)\n",
    "        plt.close()\n",
    "        bin_centers = 0.5*(x[1:]+x[:-1])\n",
    "        self.indeg_dict = indeg\n",
    "        self._indeg = [bin_centers, n]\n",
    "\n",
    "    def outdeg(self):\n",
    "        outdeg = nx.out_degree_centrality(self.G)\n",
    "        w = np.ones_like(list(outdeg.values())) / (len(outdeg.values()))\n",
    "        n, x, _ = plt.hist(list(outdeg.values()),  bins = 20, weights = w)\n",
    "        plt.close()\n",
    "        bin_centers = 0.5*(x[1:]+x[:-1])\n",
    "        self.outgeg_dict = outdeg\n",
    "        self._outdeg = [bin_centers, n]\n",
    "\n",
    "    # helpers\n",
    "    def component(self):\n",
    "        S = sorted(nx.strongly_connected_components(self.G), key = len, reverse = True)\n",
    "        self.L = self.G.subgraph(S[0])\n",
    "        return self.G.subgraph(S[0])\n",
    "\n",
    "    def sampler(self):\n",
    "        N = random.sample(self.L.nodes(), 1000)\n",
    "        return N"
   ]
  },
  {
   "cell_type": "code",
   "execution_count": 23,
   "metadata": {
    "pycharm": {
     "name": "#%%\n"
    }
   },
   "outputs": [],
   "source": [
    "class Fitting:\n",
    "\n",
    "    def __init__(self, G):\n",
    "        self.G = G\n",
    "        self._in_ccdf_data = None\n",
    "        self._out_ccdf_data = None\n",
    "        self.in_ccdf = np.array(list(dict(G.in_degree).values()))\n",
    "        self.out_ccdf = np.array(list(dict(G.out_degree).values()))\n",
    "        self.fit_in_ccdf = powerlaw.Fit(self.in_ccdf, verbose=False)\n",
    "        self.fit_out_ccdf = powerlaw.Fit(self.out_ccdf, verbose=False)\n",
    "\n",
    "    def plotter(self):\n",
    "        self.constructor()\n",
    "        fig, axes = plt.subplots(2, 2, figsize=(17, 17))\n",
    "        #fig.patch.set_facecolor('w')\n",
    "        inoutname = ['In', 'Out']\n",
    "        plt.style.use('dark_background')\n",
    "        fig.suptitle(f'CCDF Fitting For {self.G.name}',  fontsize=36)\n",
    "        # ccdf wo fit\n",
    "        D = [self._out_ccdf_data, self._in_ccdf_data]\n",
    "        bins = [entry[0] for entry in D]\n",
    "        y = [entry[1] for entry in D]\n",
    "        for idx, ax in enumerate(axes[0]):\n",
    "            ax.loglog(bins[idx], y[idx], 'r', linestyle='--', marker='o')\n",
    "            ax.set_title(f\"{inoutname[idx]} CCDF\")\n",
    "            ax.set_xlabel('x')\n",
    "            ax.set_ylabel('P(x>k)')\n",
    "            ax.set_yscale(\"symlog\", linthresh=0.00001)\n",
    "            ax.set_xscale(\"log\")\n",
    "\n",
    "        # FITTING w. CCDF\n",
    "        D = [self.fit_in_ccdf, self.fit_out_ccdf]\n",
    "        for idx, ax in enumerate(axes[1]):\n",
    "            R, p = D[idx].ccdf()\n",
    "            ax.plot(R, p, 'r', marker='o')\n",
    "            D[idx].power_law.plot_ccdf(ax=ax, color='y', label='power-law fit')\n",
    "            D[idx].exponential.plot_ccdf(ax=ax, color='g', label='exponential fit')\n",
    "            D[idx].lognormal.plot_ccdf(ax=ax, color='b', label='lognormal fit')\n",
    "            D[idx].truncated_power_law.plot_ccdf(ax=ax, color='k', label='power-law w. exp. fit')\n",
    "            ax.legend(loc='upper right')\n",
    "            ax.set_title(f\"Fitting {inoutname[idx]} CCDF\")\n",
    "            ax.set_xlabel('x')\n",
    "            ax.set_ylabel('P(x>k)')\n",
    "            ax.set_yscale(\"symlog\", linthresh=0.00001)\n",
    "            ax.set_xscale(\"log\")\n",
    "            #ax.ylim(0.001, 1.2)\n",
    "\n",
    "        return fig\n",
    "\n",
    "    def constructor(self):\n",
    "        self.ccdf()\n",
    "\n",
    "    def ccdf(self):\n",
    "            IN = list(dict(self.G.in_degree).values())\n",
    "            n,x, _ = plt.hist(IN, density=True, cumulative=True, bins=100)\n",
    "            plt.close()\n",
    "            bin_centers = 0.5*(x[1:]+x[:-1])\n",
    "            y = [1 - v for v in n]\n",
    "            self._in_ccdf_data = [bin_centers, y]\n",
    "\n",
    "            OUT = list(dict(self.G.out_degree).values())\n",
    "            n,x, _ = plt.hist(OUT, density=True, cumulative=True, bins=100)\n",
    "            plt.close()\n",
    "            bin_centers = 0.5*(x[1:]+x[:-1])\n",
    "            y = [1 - v for v in n]\n",
    "            self._out_ccdf_data = [bin_centers, y]"
   ]
  },
  {
   "cell_type": "code",
   "execution_count": 24,
   "metadata": {
    "pycharm": {
     "name": "#%%\n"
    }
   },
   "outputs": [],
   "source": [
    "class Shorthpath:\n",
    "\n",
    "    def __init__(self, G):\n",
    "        self.G = G\n",
    "        self.L = None\n",
    "        self.path_lens = None\n",
    "\n",
    "    def plotter(self):\n",
    "        self.constructor()\n",
    "        self.configuration()\n",
    "        fig, axes = plt.subplots(1, 1, figsize=(10, 10))\n",
    "        #fig.patch.set_facecolor('w')\n",
    "        plt.style.use('dark_background')\n",
    "        axes.bar(list(self.path_lens.keys()), [value / sum(list(self.path_lens.values())) for value in list(self.path_lens.values())])\n",
    "        fig.suptitle(f'{self.G.name} Shortest Path Length Distributions', fontsize=22)\n",
    "        axes.set_xlabel('d'); axes.set_ylabel('P(d)')\n",
    "        return fig\n",
    "\n",
    "\n",
    "    def constructor(self):\n",
    "        self.get_largest_components()\n",
    "        self.get_sample_shorted_paths()\n",
    "\n",
    "    def get_largest_components(self):\n",
    "        components_sorted = sorted( nx.strongly_connected_components(self.G) , key=len, reverse=True )\n",
    "        self.L = self.G.subgraph(components_sorted[0])\n",
    "\n",
    "    def get_sample_shorted_paths(self):\n",
    "        path_lens = []\n",
    "\n",
    "        for i in range(10000):\n",
    "            nodes = random.sample(self.L.nodes(), 2)\n",
    "            shortest_path = nx.shortest_path(self.L, source=nodes[0], target=nodes[1])\n",
    "            path_lens.append(len(shortest_path))\n",
    "        self.path_lens = Counter(path_lens)\n",
    "        self.path_lens_2 = path_lens\n",
    "\n",
    "    def configuration(self):\n",
    "        C = Configuration(self.G).C\n",
    "        CL = sorted( nx.strongly_connected_components(C) , key=len, reverse=True)\n",
    "        CL = C.subgraph(CL[0])\n",
    "        CL_paths = []\n",
    "\n",
    "        for i in range(10**4):\n",
    "            nodes = random.sample(CL.nodes(), 2)\n",
    "            shortest_path = nx.shortest_path(CL, source=nodes[0], target=nodes[1])\n",
    "            CL_paths.append(len(shortest_path))\n",
    "\n",
    "        C_data = CL_paths\n",
    "        G_data = self.path_lens_2\n",
    "\n",
    "\n",
    "        fig, ax = plt.subplots(figsize=(8,5))\n",
    "        ax.hist([G_data, CL_paths], rwidth=0.9, label=['Original', 'Configuration'], color=['red', 'green'])\n",
    "        ax.legend()\n",
    "        ax.set_xlabel('d')\n",
    "        ax.set_ylabel('P(d)')\n",
    "        plt.title(f\"{self.G.name} Shortest Path Configuration\")\n",
    "        plt.savefig(f'../docs/plots/{self.G.name}/config-shorts-{self.G.name}', dpi=300)\n",
    "        plt.close()\n"
   ]
  },
  {
   "cell_type": "code",
   "execution_count": 25,
   "metadata": {
    "pycharm": {
     "name": "#%%\n"
    }
   },
   "outputs": [],
   "source": [
    "class Configuration:\n",
    "\n",
    "    def __init__(self, G):\n",
    "        self.G = G\n",
    "        self.din = [G.in_degree[node] for node in G.nodes]\n",
    "        self.dout = [G.out_degree[node] for node in G.nodes]\n",
    "        self.C = nx.directed_configuration_model(self.din, self.dout)\n"
   ]
  },
  {
   "cell_type": "code",
   "execution_count": 26,
   "metadata": {
    "pycharm": {
     "name": "#%%\n"
    }
   },
   "outputs": [],
   "source": [
    "def run_deg(G):\n",
    "    # save degree dist plot\n",
    "    d = Degrees(G)\n",
    "    fig = d.plotter()\n",
    "    fig.savefig(f\"plots/{G.name}/degrees-{G.name}\")\n",
    "    plt.close()"
   ]
  },
  {
   "cell_type": "code",
   "execution_count": 27,
   "metadata": {
    "pycharm": {
     "name": "#%%\n"
    }
   },
   "outputs": [],
   "source": [
    "def run_fit(G):\n",
    "    # save ccdf fitting plot\n",
    "    d = Fitting(G)\n",
    "    fig = d.plotter()\n",
    "    fig.savefig(f\"plots/{G.name}/ccdf-fit-{d.G.name}\")\n",
    "    plt.close()"
   ]
  },
  {
   "cell_type": "code",
   "execution_count": 28,
   "metadata": {
    "pycharm": {
     "name": "#%%\n"
    }
   },
   "outputs": [],
   "source": [
    "def run_centrality(G):\n",
    "    # save centrality dest plot\n",
    "    b = Centrality(G)\n",
    "    fig = b.plotter()\n",
    "    fig.savefig(f\"plots/{G.name}/centrality-{b.G.name}\")\n",
    "    plt.close()"
   ]
  },
  {
   "cell_type": "code",
   "execution_count": 29,
   "metadata": {
    "pycharm": {
     "name": "#%%\n"
    }
   },
   "outputs": [],
   "source": [
    "def run_short_paths(G):\n",
    "    # shortest path histogram\n",
    "    s = Shorthpath(G)\n",
    "    fig = s.plotter()\n",
    "    fig.savefig(f\"plots/{G.name}/shortest-paths-{s.G.name}\")\n",
    "    plt.close()\n"
   ]
  },
  {
   "cell_type": "code",
   "execution_count": 30,
   "metadata": {
    "pycharm": {
     "name": "#%%\n"
    }
   },
   "outputs": [],
   "source": [
    "def config_cluster(G):\n",
    "    C = Configuration(G).C\n",
    "    G_cluster = nx.clustering(G)\n",
    "    C_cluster = nx.clustering(nx.DiGraph(C))\n",
    "    G_data = Counter(dict(G_cluster).values())\n",
    "    C_data = Counter(dict(C_cluster).values())\n",
    "    G_X = G_data.keys()\n",
    "    G_Y = G_data.values()\n",
    "    G_Y = [y / max(G_Y) for y in G_Y]\n",
    "    C_X = C_data.keys()\n",
    "    C_Y = C_data.values()\n",
    "    C_Y = [y / max(C_Y) for y in C_Y]\n",
    "    fig, axes = plt.subplots(1, 2, figsize=(14, 7))\n",
    "    #fig.patch.set_facecolor('w')\n",
    "    plt.style.use('dark_background')\n",
    "    fig.suptitle(f'{G.name} Clustering Plots (Configuration Model)',  fontsize=26)\n",
    "    axes[0].plot(G_X, G_Y, 'ro', label='Original')\n",
    "    axes[0].plot(C_X, C_Y, 'go', label='Configuration')\n",
    "    axes[0].legend(loc='upper right')\n",
    "    axes[1].loglog(G_X, G_Y, 'ro', label='Original')\n",
    "    axes[1].plot(C_X, C_Y, 'go', label='Configuration')\n",
    "    axes[1].legend(loc='upper right')\n",
    "    plt.savefig(f'../docs/plots/{G.name}/config-cluster-{G.name}', dpi=300)\n",
    "    plt.close()"
   ]
  },
  {
   "cell_type": "code",
   "execution_count": 36,
   "metadata": {
    "pycharm": {
     "name": "#%%\n"
    }
   },
   "outputs": [],
   "source": [
    "def knn(G):\n",
    "    C = nx.k_nearest_neighbors(Configuration(G).C)\n",
    "    D = nx.k_nearest_neighbors(G)\n",
    "    plt.figure(figsize=(14, 8))\n",
    "    plt.style.use('dark_background')\n",
    "    plt.plot(list(D.keys()), list(D.values()), 'ro', label='Original')\n",
    "    plt.plot(list(C.keys()), list(C.values()), 'bo', label='Configuration')\n",
    "    plt.legend()\n",
    "    plt.yscale('log')\n",
    "    plt.xscale('log')\n",
    "    plt.xlabel('k')\n",
    "    plt.ylabel(r'$\\bar{k}$')\n",
    "    plt.title(f'{G.name} KNN Plot', fontsize=26)\n",
    "    plt.savefig(f'../docs/plots/{G.name}/knn-{G.name}')\n",
    "    plt.close()\n"
   ]
  },
  {
   "cell_type": "code",
   "execution_count": 32,
   "metadata": {
    "pycharm": {
     "name": "#%%\n"
    }
   },
   "outputs": [],
   "source": [
    "def assortativity(G):\n",
    "    C = nx.degree_assortativity_coefficient(Configuration(G).C)\n",
    "    D = nx.degree_assortativity_coefficient(G)\n",
    "    print(f'original deg. assort: {D:.5f}\\nconfmod. def. assort: {C:.5f}')"
   ]
  },
  {
   "cell_type": "code",
   "execution_count": 33,
   "metadata": {
    "pycharm": {
     "name": "#%%\n"
    }
   },
   "outputs": [],
   "source": [
    "def comp_size(G):\n",
    "    return len(sorted(nx.weakly_connected_components(G))[0])\n",
    "\n",
    "def destruction(G):\n",
    "    d = np.linspace(0, 0.9, 21)\n",
    "    yr = []\n",
    "    yt = []\n",
    "    x = []\n",
    "    for i in range(21):\n",
    "        G = Centrality(G).component()\n",
    "        N = list(G.nodes)\n",
    "        R = random.sample(N, int(len(G) * (1 - d[i])))\n",
    "        S1 = nx.subgraph(G, R)\n",
    "        T = sorted(dict(G.degree()).items(), key=operator.itemgetter(1))\n",
    "        T = [d[0] for d in T[::-1][:int(len(G)* (1 - d[i]))]]\n",
    "        S2 = nx.subgraph(G, T)\n",
    "        x.append(d[i])\n",
    "        yr.append(comp_size(S1))\n",
    "        yt.append(comp_size(S2))\n",
    "    plt.plot(x, yr, 'b')\n",
    "    plt.show()\n",
    "    plt.plot(x, yt, 'r')\n",
    "    plt.show()"
   ]
  },
  {
   "cell_type": "code",
   "execution_count": 34,
   "metadata": {
    "pycharm": {
     "name": "#%%\n"
    }
   },
   "outputs": [],
   "source": [
    "def run_all():\n",
    "    for G in tqdm(S.values()):\n",
    "        #run_deg(G)\n",
    "        #run_fit(G)\n",
    "        #run_centrality(G)\n",
    "        #run_short_paths(G)\n",
    "        #config_cluster(G)\n",
    "        #assortativity(G)\n",
    "        knn(G)\n",
    "        #print(comp_size(G))\n",
    "        #destruction(G)"
   ]
  },
  {
   "cell_type": "code",
   "execution_count": 37,
   "metadata": {
    "pycharm": {
     "name": "#%%\n"
    }
   },
   "outputs": [
    {
     "name": "stderr",
     "output_type": "stream",
     "text": [
      "100%|██████████| 9/9 [00:24<00:00,  2.75s/it]\n"
     ]
    }
   ],
   "source": [
    "run_all()"
   ]
  },
  {
   "cell_type": "code",
   "execution_count": null,
   "metadata": {
    "pycharm": {
     "name": "#%%\n"
    }
   },
   "outputs": [],
   "source": []
  },
  {
   "cell_type": "code",
   "execution_count": null,
   "metadata": {
    "pycharm": {
     "name": "#%%\n"
    }
   },
   "outputs": [],
   "source": []
  }
 ],
 "metadata": {
  "kernelspec": {
   "display_name": "Python 3",
   "language": "python",
   "name": "python3"
  },
  "language_info": {
   "codemirror_mode": {
    "name": "ipython",
    "version": 3
   },
   "file_extension": ".py",
   "mimetype": "text/x-python",
   "name": "python",
   "nbconvert_exporter": "python",
   "pygments_lexer": "ipython3",
   "version": "3.6.6+"
  }
 },
 "nbformat": 4,
 "nbformat_minor": 4
}